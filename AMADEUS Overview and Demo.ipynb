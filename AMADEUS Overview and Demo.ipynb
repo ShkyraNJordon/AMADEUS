{
 "cells": [
  {
   "cell_type": "markdown",
   "metadata": {},
   "source": [
    "# AMADEUS Project VIVA Presenation\n",
    "\n",
    "## ArguMentation-bAsed DEcision sUpport System; a submission for CM2303 One Semester Individual Project by Sh'kyra Jordon\n",
    "\n",
    "This Jupyter notebook will be presesnted by Sh'kyra Jordon at the project VIVA meeting for the AMADEUS project, scheduled for 9:00 on Tuesday 12th June 2018. This counts towards a final year submission to Cardiff University's School of Copmuter Science and Informatics.\n",
    "\n",
    "This presentation assumes the AMADEUS report has been read by the audience."
   ]
  },
  {
   "cell_type": "markdown",
   "metadata": {},
   "source": [
    "### An initial note\n",
    "The first note I want to make is that __I did not complete my report__. Some sections were __put together hastily__ in the last few hours before the deadline, when very little sleep had been had and my language skills were deeply hampered. __Not everything makes sense__.\n",
    "\n",
    "I want to take this presentation as an opportunity to clear up any confusions, to fill in some gaps, and communicate some things that as a result of this project live in my head, but are absent from my report."
   ]
  },
  {
   "cell_type": "markdown",
   "metadata": {},
   "source": [
    "## What is AMADEUS?\n",
    "\n",
    "AMADEUS is a Python 3 based system that aims to serve decision makers.\n",
    "\n",
    "### The problem\n",
    "\n",
    "__AMADEUS seeks to aid decision makers in dealing with the contentious nature of inconsistent knowledge bases__:\n",
    "Any knowledge base that represents real-world information is bound to contain inconsistencies, and thus from this knowledge base, conflicting arguments are inferred. How we deal with these conflicts is ultimately up to a decision maker, but we can create systems to aid this process.\n",
    "\n",
    "### A solution\n",
    "\n",
    "Within the report, a process is detailed that\n",
    "* takes a knowledge base of __logical statements__,\n",
    "* yields from them all the (infallible) __deductive arguments__ that can be inferred,\n",
    "* identifies the __conflicts__ within these arguments and thus any counters to every argument, \n",
    "* thus producing all the components necessary to create an __argument graph__ of these attacks, which can be passed to third party systems to yield __Dung's extensions__; sets of collectively acceptable arguments that satisfy some condition of *acceptability*.\n",
    "\n",
    "These sets can be examined by a decision maker, and based on whatever criteria fits her purpose, she can use these extensions, and the nature of their contents, to __choose which arguments to accept__.\n",
    "\n",
    "### AMADEUS's role in this solution\n",
    "\n",
    "AMADEUS plays a part in this process by providing the functionality to enable a user to __infer arguments__ from a knowledge base of *simple* logical statements.\n",
    "\n",
    "### What happens next?\n",
    "\n",
    "From here, we can demonstrate how AMADEUS can be used with relative ease to __identify the conflicts__ within these arguments, and produce this information in a __common format__ so it can be passed to third party systems that can yield __Dung's extensions__ from it."
   ]
  },
  {
   "cell_type": "markdown",
   "metadata": {},
   "source": [
    "## A Demonstration\n",
    "Using a concrete example, let's run through the main functionality of AMADEUS. To aid this, let us explain the internal structure of AMADEUS.\n",
    "\n",
    "AMADEUS is made up of 3 modules; `logic.py`, `knowledgebase.py`, and `argumentation.py`:"
   ]
  },
  {
   "cell_type": "code",
   "execution_count": 112,
   "metadata": {
    "collapsed": true
   },
   "outputs": [],
   "source": [
    "from logic import Literal, Clause, Rule"
   ]
  },
  {
   "cell_type": "markdown",
   "metadata": {},
   "source": [
    "- `logic.py` contains the data structures that represent __simple logical statements__, and the components within them; simple clauses and simple rules. Note that these data structures are designed to hold only *simple* logic statements, and cannot be used for more complex statements. \n",
    "\n",
    "  Here, a simple clause is a conjunction of simple literals, and a simple rule is an ordered pair where the latter is a set of simple literals treated as its antecedent, and the former is a single simple literal representing a conclusion drawn from its antecedent. Simple literals are the assertion of an atomic logical statement, an *atom*, or the assertion of its logical complement.\n",
    "\n",
    "  This includes:\n",
    "  - The `Literal` data structure represents __simple literals__ that are characterised by an `atom` and a sign that depends on whether the literal is positive or negative.\n",
    "  - The `Clause` data structure represents __simple clauses__, and references `Literal` instances that correspond to the literals it asserts in conjunction.\n",
    "  - The `Rule` data structure represents __simple rules__, and references `Literal` instances that correspond to the literal it asserts as its consequent (as its `head` attribute), and the literals in its antecedent (as a set of instances in its `body` attribute)."
   ]
  },
  {
   "cell_type": "code",
   "execution_count": 113,
   "metadata": {},
   "outputs": [
    {
     "name": "stdout",
     "output_type": "stream",
     "text": [
      "We can create literals happy and ~happy that consist of the same atom 'happy', but opposite signs.\n"
     ]
    }
   ],
   "source": [
    "happy, nothappy = Literal(\"happy\", True), Literal(\"happy\", False)  # Literals print in prolog syntax\n",
    "print(\"We can create literals {} and {}\".format( happy, nothappy ),\n",
    "      \"that consist of the same atom 'happy', but opposite signs.\")"
   ]
  },
  {
   "cell_type": "code",
   "execution_count": 114,
   "metadata": {},
   "outputs": [
    {
     "name": "stdout",
     "output_type": "stream",
     "text": [
      "Clauses are made up of literals; stay_home, sunny.\n"
     ]
    }
   ],
   "source": [
    "sunny, stay_home = Literal(\"sunny\"), Literal(\"stay_home\")  # We can omit signs for positive literals.\n",
    "c1 = Clause(sunny, stay_home) # Clauses print in prolog syntax\n",
    "print(\"Clauses are made up of literals;\", c1) "
   ]
  },
  {
   "cell_type": "code",
   "execution_count": 115,
   "metadata": {},
   "outputs": [
    {
     "name": "stdout",
     "output_type": "stream",
     "text": [
      "Rules have a head literal, and body literals; ~happy:- sunny, stay_home.\n"
     ]
    }
   ],
   "source": [
    "r1 = Rule(nothappy, sunny, stay_home)  # The first literal is the head, the body literals follow.\n",
    "print(\"Rules have a head literal, and body literals;\", r1)  # Rules print in prolog sytax"
   ]
  },
  {
   "cell_type": "code",
   "execution_count": 116,
   "metadata": {
    "collapsed": true
   },
   "outputs": [],
   "source": [
    "from knowledgebase import KnowledgeBase, PrologString"
   ]
  },
  {
   "cell_type": "markdown",
   "metadata": {},
   "source": [
    "- `knowledgebase.py` contains data structures to read in and represent __the contents of simple knowledge bases__ as collections of `Clause` and `Rule` (and thus also `Literal`) instances. Here, a simple knowledge base is a collection of simple clauses and rules.\n",
    "    \n",
    "  These classes are:\n",
    "  \n",
    "  - The `knowledgebase.KnowledgeBase` data structure represents __simple knowledge bases as references to `Clause` and `Rule` instances__ that represent the clauses and rules it asserts.  \n",
    "  This structure also contains references to the `Case` structures (in `argumentation.py`) that represent the simple cases for each literal within the knowledge base.\n",
    "\n",
    "  - The `knowledgebase.PrologString` data structure represents __simple knowledge bases in the format of a prolog string__. This structure also provides methods that convert this string into sets of cooresponding `Clause` instances and `Rule` instances.  \n",
    "  `PrologString` is used by the constructor of a `KnowledgeBase` to convert a string input to the corresponding `logic.py` structures."
   ]
  },
  {
   "cell_type": "code",
   "execution_count": 117,
   "metadata": {},
   "outputs": [
    {
     "name": "stdout",
     "output_type": "stream",
     "text": [
      "We can create knowledge bases too;\n",
      " ~happy:- sunny, stay_home.\n",
      "stay_home, sunny.\n",
      "\n"
     ]
    }
   ],
   "source": [
    "print(\"We can create knowledge bases too;\\n\", KnowledgeBase(r1, c1))"
   ]
  },
  {
   "cell_type": "code",
   "execution_count": 118,
   "metadata": {},
   "outputs": [
    {
     "name": "stdout",
     "output_type": "stream",
     "text": [
      "Knowledge bases can also be represented as PrologString objects;\n",
      "~happy:- sunny, stay_home.\n",
      "stay_home, sunny.\n"
     ]
    }
   ],
   "source": [
    "ps = PrologString(\"~happy:- stay_home, sunny.\"  # PrologStrings don't print in prolog syntax\n",
    "                + \"stay_home, sunny. \")\n",
    "print(\"Knowledge bases can also be represented as PrologString objects;\",\n",
    "      *ps.clauses.union(ps.rules), sep=\"\\n\")\n",
    "del ps  #cleanup"
   ]
  },
  {
   "cell_type": "code",
   "execution_count": 119,
   "metadata": {
    "collapsed": true
   },
   "outputs": [],
   "source": [
    "from argumentation import Case"
   ]
  },
  {
   "cell_type": "markdown",
   "metadata": {},
   "source": [
    "- `argumentation.py` contains the data structure `Case` that represents a __simple case__ for a literal (its claim). This structure references a particular `Literal` instance that represents this claim.\n",
    "\n",
    "  This structure also contains references to collections of `Clause` and `Rule` instances that represent the simple logic statements that form its support."
   ]
  },
  {
   "cell_type": "code",
   "execution_count": 120,
   "metadata": {},
   "outputs": [
    {
     "name": "stdout",
     "output_type": "stream",
     "text": [
      "For a knowledge base containing:\n",
      " stay_home, sunny.\n",
      "~work_well:- stay_home.\n",
      "\n",
      "The literal ~work_well is asserted by the rule ~work_well:- stay_home. \n",
      "This rule is supported by the clause stay_home, sunny.\n",
      "\n",
      "Note that this is everything you need to get the argument:\n",
      "([~work_well:- stay_home., stay_home, sunny.], ~work_well)\n"
     ]
    }
   ],
   "source": [
    "notwork_well = Literal(\"work_well\", False)\n",
    "r2 = Rule(notwork_well, stay_home)\n",
    "kb = KnowledgeBase(r2, c1)\n",
    "print(\"For a knowledge base containing:\\n\", kb)\n",
    "\n",
    "l = kb._literals_dict[\"~work_well\"]  # Yields kb's instance of notwork_well as l\n",
    "r = list(l.case.asserting_rules)[0]  # Yields the (only) rule in kb that asserts l, as r\n",
    "b = list(r.body)[0]  # Yields r's (only) body literal\n",
    "c = list(b.case.asserting_clauses)[0]  # Yields the (only) clause asserting b, as c\n",
    "print(\"The literal {} is asserted by the rule {}\".format(l, r),\n",
    "      \"\\nThis rule is supported by the clause {}\".format(c))\n",
    "\n",
    "print(\"\\nNote that this is everything you need to get the argument:\\n([{}, {}], {})\".format(r, c, l))\n",
    "del l, r, b, c  # cleanup"
   ]
  },
  {
   "cell_type": "markdown",
   "metadata": {},
   "source": [
    "Nuances of these structures will be mentioned in passing throughout this demonstraction. "
   ]
  },
  {
   "cell_type": "markdown",
   "metadata": {},
   "source": [
    "### Creating a knowledge base in simple logic\n",
    "\n",
    "First we will use `KnowledgeBase` to create a simple knowledge base. For example, with contents:\n",
    "\n",
    "    ATOMS:\n",
    "      happy                             := I am happy\n",
    "      work_well                         := I work well\n",
    "      sunny                             := It is sunny\n",
    "      stay_home                         := I stay home\n",
    "    CLAUSES:\n",
    "      c1 = sunny, stay_home.            := It was sunny and I stayed home\n",
    "    RULES:\n",
    "      r1 = ~happy :- sunny, stay_home.  := If it is sunny and I stay home, I am not happy\n",
    "      r2 = ~work_well :- stay_home.     := If I stay home, I do not work well\n",
    "      r3 = happy :- stay_home.          := If I stay home, I am happy\n",
    "      r4 = work_well :- happy.          := If I am happy, I work well"
   ]
  },
  {
   "cell_type": "markdown",
   "metadata": {},
   "source": [
    "#### KnowlegdeBase Input\n",
    "\n",
    "A `KnowledgeBase` reads in a simple logic knowledge base in any of the following formats:"
   ]
  },
  {
   "cell_type": "markdown",
   "metadata": {},
   "source": [
    "* __a collection of `logic.Clause` and `logic.Rule` objects__; Users can use the data structures provided in the `logic.py` module to represent simple clauses and rules. These data structures can be passed to the `KnowledgeBase` constructor."
   ]
  },
  {
   "cell_type": "code",
   "execution_count": 121,
   "metadata": {},
   "outputs": [
    {
     "name": "stdout",
     "output_type": "stream",
     "text": [
      "We can populate a KnowledgeBase with the Clause and Rule objects we've made so far (& then some):\n",
      "KB: ~happy:- sunny, stay_home.\n",
      "    stay_home, sunny.\n",
      "    ~work_well:- stay_home.\n",
      "    happy:- stay_home.\n",
      "    work_well:- happy.\n",
      "    \n"
     ]
    }
   ],
   "source": [
    "r3, r4 = Rule(happy, stay_home), Rule(Literal(\"work_well\"), happy)  # need to create a couple more rules\n",
    "print(\"We can populate a KnowledgeBase with the Clause and Rule objects we've made so far (& then some):\")\n",
    "kb = KnowledgeBase(c1, r1, r2, r3, r4)\n",
    "print(\"KB:\", str(kb).replace(\"\\n\", \"\\n    \"))"
   ]
  },
  {
   "cell_type": "markdown",
   "metadata": {},
   "source": [
    "  Given an input of `Clause` and `Rule` objects, `KnowledgeBase` will *consolidate* these items.\n",
    "  This means that every such object will be recreated for this `KnowledgeBase` instance, and these duplicates will collectively reference the same `Literal` instances maintained in a hashmap as this `KnowledgeBase`'s `_literals_dict` attribute."
   ]
  },
  {
   "cell_type": "code",
   "execution_count": 122,
   "metadata": {},
   "outputs": [
    {
     "name": "stdout",
     "output_type": "stream",
     "text": [
      "Our notwork_well = ~work_well\n",
      "KB's  ~work_well = ~work_well\n",
      "Shared instance?: False\n"
     ]
    }
   ],
   "source": [
    "print(\"Our notwork_well =\", notwork_well)\n",
    "w = kb._literals_dict[\"~work_well\"]  # get kb's literal ~work_well\n",
    "print(\"KB's  ~work_well =\", w)\n",
    "print(\"Shared instance?:\", w is notwork_well)"
   ]
  },
  {
   "cell_type": "code",
   "execution_count": 123,
   "metadata": {},
   "outputs": [
    {
     "name": "stdout",
     "output_type": "stream",
     "text": [
      "Our  r2: ~work_well:- stay_home.\n",
      "KB's r2: ~work_well:- stay_home.\n",
      "Shared instance?: False\n"
     ]
    }
   ],
   "source": [
    "print(\"Our  r2:\", r2)\n",
    "r = list(w.case.asserting_rules)[0]  # get kb's r2; the only rule that asserts ~work_well\n",
    "print(\"KB's r2:\", r)\n",
    "print(\"Shared instance?:\", r is r2)"
   ]
  },
  {
   "cell_type": "code",
   "execution_count": 124,
   "metadata": {},
   "outputs": [
    {
     "name": "stdout",
     "output_type": "stream",
     "text": [
      "KB's r2's body literal: stay_home\n",
      "KB's r3's body literal: stay_home\n",
      "Shared instance?: True\n"
     ]
    }
   ],
   "source": [
    "s1 = list(r.body)[0] # get kb's r2's only body literal (stay_home)\n",
    "print(\"KB's r2's body literal:\", s1)\n",
    "h = kb._literals_dict[\"happy\"]  # get the literal happy\n",
    "r = list(h.case.asserting_rules)[0]  # get kb's r3; the only rule that asserts happy\n",
    "s2 = list(r.body)[0] # get kb's r3's only body literal (stay_home)\n",
    "print(\"KB's r3's body literal:\", s2)\n",
    "print(\"Shared instance?:\", s1 is s2)\n",
    "del w, r, s1, h, s2"
   ]
  },
  {
   "cell_type": "markdown",
   "metadata": {},
   "source": [
    "* __a string of simple logic clauses and rules in prolog syntax__; Users can create a string to represent simple clauses and rules in prolog syntax. This string can be passed to the `KnowledgeBase` constructor, which will in turn pass it to the `PrologString` constructor to yield sets of corresponding `logic.Clause` and `logic.Rule` objects."
   ]
  },
  {
   "cell_type": "code",
   "execution_count": 125,
   "metadata": {},
   "outputs": [
    {
     "name": "stdout",
     "output_type": "stream",
     "text": [
      "We can populate a knowledge base via a prolog-syntax string.\n",
      "E.G. for the same contents:\n",
      "~happy:- sunny, stay_home.\n",
      "stay_home, sunny.\n",
      "~work_well:- stay_home.\n",
      "happy:- stay_home.\n",
      "work_well:- happy.\n",
      "\n"
     ]
    }
   ],
   "source": [
    "s = \"~happy:- sunny, stay_home. ~work_well:- stay_home. happy:- stay_home. work_well:- happy.\"\n",
    "s += \"stay_home, sunny.\"\n",
    "print(\"We can populate a knowledge base via a prolog-syntax string.\",\n",
    "      \"E.G. for the same contents:\",\n",
    "       KnowledgeBase(s), sep=\"\\n\")"
   ]
  },
  {
   "cell_type": "markdown",
   "metadata": {},
   "source": [
    "* __the file path of a text-file containing a string of simple logic clauses and rules in prolog syntax__; Users can create a text-file containing a prolog-syntax string as specified in the bullet point above, and pass its file path to the `KnowledgeBase` constructor as a string. The `KnowledgeBase` constructor will assume any single string input passed to it is the contents of a knowledge base either as a file path input, or a prolog syntax string as specified above. Initially it will assume the former format. If it cannot find the file sepcified by this file path, it will assume the latter format."
   ]
  },
  {
   "cell_type": "code",
   "execution_count": 126,
   "metadata": {},
   "outputs": [
    {
     "name": "stdout",
     "output_type": "stream",
     "text": [
      "We can populate a knowledge base via a text file containing a prolog-syntax string.\n",
      "E.G. for the same contents:\n",
      "~happy:- sunny, stay_home.\n",
      "stay_home, sunny.\n",
      "~work_well:- stay_home.\n",
      "happy:- stay_home.\n",
      "work_well:- happy.\n",
      "\n"
     ]
    }
   ],
   "source": [
    "with open(\"kb_input_file.txt\", \"w\") as infile:\n",
    "    infile.write(s)\n",
    "print(\"We can populate a knowledge base via a text file containing a prolog-syntax string.\",\n",
    "      \"E.G. for the same contents:\",\n",
    "       KnowledgeBase(\"kb_input_file.txt\"), sep=\"\\n\")"
   ]
  },
  {
   "cell_type": "markdown",
   "metadata": {},
   "source": [
    "### Obtaining a knowledge base's argument\n",
    "\n",
    "An entailed literal's CCoSE is one possible set of logical arguments that can form the support of an argument for that literal.\n",
    "\n",
    "We will use our example knowledge base to demonstrate how to find CCoSEs.\n",
    "    \n",
    "    KB={sunny, stay_home.             (c1)\n",
    "        ~happy :- sunny, stay_home.   (r1)\n",
    "        ~work_well :- stay_home.      (r2)\n",
    "        happy :- stay_home.           (r3)\n",
    "        work_well :- happy.}          (r4)\n",
    "\n",
    "Suppose we had the literal L = `happy`. L is entailed in KB since there exists a rule (r3) in KB with body literals that are either contained, or entailed; `stay_home` is contained since there is a clause (c1) in KB that asserts it.\n",
    "\n",
    "We can find arguments for L by following this same train of thought, but keeping hold of the evidence for all our justifications at each step. This is an approach similar to backward induction since we work our way backwards through the chain of support from the KB to L.\n",
    "\n",
    "To find all the CCoSEs of L, given L is entailed, we would follow this algorithm:\n",
    "    \n",
    "    def get_CCoSEs_of_literal(L):\n",
    "        CCoSEs = []\n",
    "        For all rules r that support L:\n",
    "            literal_supporting_evidence = defaultdict(list)\n",
    "            for literals l in r.body:\n",
    "                if l is contained:\n",
    "                    literal_supporting_evidence[l] += l.asserting_clauses\n",
    "                if l is entailed:\n",
    "                    literal_supporting_evidence[l] += get_CCoSEs_of_literal(l)\n",
    "            for every permutation p of the elements in literal_supporting_evidence.values():\n",
    "                CCoSEs.append(p.append(L))\n",
    "        return CCoSEs        \n",
    "\n",
    "Every literal in KB is associated with its own `Case`. A `Case`"
   ]
  },
  {
   "cell_type": "code",
   "execution_count": 127,
   "metadata": {
    "collapsed": true
   },
   "outputs": [],
   "source": [
    "from itertools import product\n",
    "from functools import reduce\n",
    "def rule_supporting_evidence(r):\n",
    "    \"\"\"\n",
    "    Returns a collection (generator) of sets of supporting evidence for Rule r.\n",
    "\n",
    "    Equivalent to:\n",
    "    antecedent_evidence_items = [literal_supporting_evidence(l.case) for l in r.body]\n",
    "    for antecedent_evidence_item in product(*antecedent_evidence_items):\n",
    "        yield reduce(set().union, antecedent_evidence_item).union({r})\n",
    "    \"\"\"\n",
    "    yield from (reduce(set().union, ccose).union({r})  for ccose in product(*(literal_supporting_evidence(l) for l in r.body)))"
   ]
  },
  {
   "cell_type": "code",
   "execution_count": 128,
   "metadata": {
    "collapsed": true
   },
   "outputs": [],
   "source": [
    "from itertools import chain\n",
    "def literal_supporting_evidence(l):\n",
    "    \"\"\"\n",
    "    Returns a collection (generator) of sets of supporting evidence for the Literal l.\n",
    "    \"\"\"\n",
    "    c = l.case\n",
    "    # base step: yield each asserting clause of l as a set\n",
    "    yield from ({clause} for clause in c.asserting_clauses)\n",
    "    # recursive step: yield each collection of supporting evidence for\n",
    "    #     (supported) asserted rules of l (as a set)\n",
    "    yield from chain.from_iterable((rule_supporting_evidence(r) for r in c.supporting_rules))"
   ]
  },
  {
   "cell_type": "code",
   "execution_count": 129,
   "metadata": {},
   "outputs": [
    {
     "name": "stdout",
     "output_type": "stream",
     "text": [
      "\n",
      "Arguments for ~happy:\n",
      "{~happy:- sunny, stay_home., stay_home, sunny.}\n",
      "\n",
      "Arguments for ~work_well:\n",
      "{stay_home, sunny., ~work_well:- stay_home.}\n",
      "\n",
      "Arguments for happy:\n",
      "{stay_home, sunny., happy:- stay_home.}\n",
      "\n",
      "Arguments for work_well:\n",
      "{work_well:- happy., stay_home, sunny., happy:- stay_home.}\n"
     ]
    }
   ],
   "source": [
    "for l in kb._supported_literals.values():\n",
    "    print(\"\\nArguments for {}:\".format(l))\n",
    "    supporting_evidence = chain.from_iterable((rule_supporting_evidence(r) for r in l.case.supporting_rules))\n",
    "    print(*supporting_evidence, sep=\" \")"
   ]
  }
 ],
 "metadata": {
  "kernelspec": {
   "display_name": "Python 3",
   "language": "python",
   "name": "python3"
  },
  "language_info": {
   "codemirror_mode": {
    "name": "ipython",
    "version": 3
   },
   "file_extension": ".py",
   "mimetype": "text/x-python",
   "name": "python",
   "nbconvert_exporter": "python",
   "pygments_lexer": "ipython3",
   "version": "3.6.2"
  }
 },
 "nbformat": 4,
 "nbformat_minor": 2
}
